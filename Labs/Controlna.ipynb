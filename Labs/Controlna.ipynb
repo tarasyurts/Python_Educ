{
 "cells": [
  {
   "cell_type": "code",
   "execution_count": 5,
   "metadata": {},
   "outputs": [
    {
     "name": "stdout",
     "output_type": "stream",
     "text": [
      "1245\n"
     ]
    }
   ],
   "source": [
    "# Варіант 6\n",
    "\n",
    "# Завдання 1\n",
    "\n",
    "# Дано число, в якому кількість цифр непарна.\n",
    "# Утворити нове число без середньої цифри\n",
    "\n",
    "number = 12345\n",
    "number_str = str(number)\n",
    "bef_mid = len(number_str)//2\n",
    "new_number = int(number_str[:bef_mid] + number_str[bef_mid+1:])\n",
    "\n",
    "print(new_number)\n"
   ]
  },
  {
   "cell_type": "code",
   "execution_count": 41,
   "metadata": {},
   "outputs": [
    {
     "name": "stdout",
     "output_type": "stream",
     "text": [
      "Oldest male: {'surname': 'Malar', 'stat': 'male', 'date_of_birth': '22-06-1998'}\n",
      "Officials my first letter: [{'surname': 'Popova', 'stat': 'female', 'date_of_birth': '17-11-1999'}]\n"
     ]
    }
   ],
   "source": [
    "# Завдання 2\n",
    "from datetime import datetime \n",
    "\n",
    "# officials = [ \n",
    "#     { 'surname': 'Yurts', 'stat': 'male', 'date_of_birth': { 'day': 9, 'month': 8, 'year': 2000} },\n",
    "#     { 'surname': 'Popova', 'stat': 'female', 'date_of_birth': { 'day': 17, 'month': 11, 'year': 1999}},\n",
    "#     { 'surname': 'Ivaniuk', 'stat': 'female', 'date_of_birth': { 'day': 14, 'month': 3, 'year': 1999}},\n",
    "#     { 'surname': 'Malar', 'stat': 'male', 'date_of_birth': { 'day': 22, 'month': 6, 'year': 1998}}]\n",
    "\n",
    "officials = [ \n",
    "    { 'surname': 'Yurts', 'stat': 'male', 'date_of_birth': '09-08-2000' },\n",
    "    { 'surname': 'Popova', 'stat': 'female', 'date_of_birth': '17-11-1999'},\n",
    "    { 'surname': 'Ivaniuk', 'stat': 'female', 'date_of_birth': '14-03-1999'},\n",
    "    { 'surname': 'Malar', 'stat': 'male', 'date_of_birth': '22-06-1998'}]\n",
    "\n",
    "\n",
    "# -------------2.1\n",
    "\n",
    "def find_oldest_male():\n",
    "    males_officials = [official for official in officials if official['stat']=='male']\n",
    "    males_officials.sort(key=lambda x: datetime.strptime(x['date_of_birth'], '%d-%m-%Y'))\n",
    "    return males_officials[0]\n",
    "\n",
    "# -------------2.2        \n",
    "        \n",
    "def find_officials_by_surname_first_letter(first_letter):\n",
    "    return [official for official in officials if official['surname'][0] == first_letter ]\n",
    "\n",
    "\n",
    "print('Oldest male: ' + str(find_oldest_male()))\n",
    "\n",
    "print(\"Officials my first letter: \" + str(find_officials_by_surname_first_letter('P')))"
   ]
  },
  {
   "cell_type": "code",
   "execution_count": 64,
   "metadata": {},
   "outputs": [
    {
     "name": "stdout",
     "output_type": "stream",
     "text": [
      "Rect(First side: 17 | Second side: 13)\n",
      "Area: 221\n",
      "Is square: False\n",
      "Diagonal: 21.400934559032695\n",
      "If Rect(First side: 17 | Second side: 13) and Rect(First side: 20 | Second side: 22) are equal: False\n"
     ]
    }
   ],
   "source": [
    "import math\n",
    "\n",
    "class Rectangle:\n",
    "    \n",
    "    def __init__(self, side_first, side_second):\n",
    "        self.side_first = side_first\n",
    "        self.side_second = side_second\n",
    "        \n",
    "    def __str__(self):\n",
    "        return 'Rect(First side: ' + str(self.side_first) + ' | Second side: ' + str(self.side_second)+')'\n",
    "    \n",
    "    def __eq__(self, other):\n",
    "        return (self.side_first == other.side_first) and (self.side_second == other.side_second)\n",
    "    \n",
    "    def area(self):\n",
    "        return self.side_first * self.side_second\n",
    "    \n",
    "    def isSquare(self):\n",
    "        return self.side_first == self.side_second\n",
    "    \n",
    "    def diagonal(self):\n",
    "        return math.sqrt(math.pow(self.side_first,2) + math.pow(self.side_second,2))\n",
    "    \n",
    "    \n",
    "rect = Rectangle(17, 13)\n",
    "\n",
    "print(rect)\n",
    "\n",
    "print('Area: ' + str(rect.area()))\n",
    "\n",
    "print('Is square: ' + str(rect.isSquare()))\n",
    "\n",
    "print('Diagonal: ' + str(rect.diagonal()))\n",
    "\n",
    "# --------------\n",
    "\n",
    "rect_sec = Rectangle(20, 22)\n",
    "\n",
    "print('If ' + str(rect) + ' and ' + str(rect_sec) + ' are equal: ' + str(rect == rect_sec))"
   ]
  }
 ],
 "metadata": {
  "kernelspec": {
   "display_name": "Python 3",
   "language": "python",
   "name": "python3"
  },
  "language_info": {
   "codemirror_mode": {
    "name": "ipython",
    "version": 3
   },
   "file_extension": ".py",
   "mimetype": "text/x-python",
   "name": "python",
   "nbconvert_exporter": "python",
   "pygments_lexer": "ipython3",
   "version": "3.8.3"
  }
 },
 "nbformat": 4,
 "nbformat_minor": 4
}
