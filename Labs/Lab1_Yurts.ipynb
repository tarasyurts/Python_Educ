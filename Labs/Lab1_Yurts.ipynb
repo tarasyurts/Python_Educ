{
 "cells": [
  {
   "cell_type": "code",
   "execution_count": 32,
   "metadata": {},
   "outputs": [
    {
     "name": "stdin",
     "output_type": "stream",
     "text": [
      " 25\n"
     ]
    }
   ],
   "source": [
    "x = int(input())"
   ]
  },
  {
   "cell_type": "code",
   "execution_count": 33,
   "metadata": {},
   "outputs": [
    {
     "name": "stdout",
     "output_type": "stream",
     "text": [
      "25\n"
     ]
    }
   ],
   "source": [
    "print(x)"
   ]
  },
  {
   "cell_type": "code",
   "execution_count": 34,
   "metadata": {},
   "outputs": [
    {
     "name": "stdout",
     "output_type": "stream",
     "text": [
      "25.8\n"
     ]
    }
   ],
   "source": [
    "x += 0.8\n",
    "print(x)"
   ]
  },
  {
   "cell_type": "code",
   "execution_count": 37,
   "metadata": {},
   "outputs": [
    {
     "name": "stdout",
     "output_type": "stream",
     "text": [
      "25\n"
     ]
    }
   ],
   "source": [
    "x = int(x)\n",
    "print(x)"
   ]
  },
  {
   "cell_type": "code",
   "execution_count": 1,
   "metadata": {},
   "outputs": [
    {
     "name": "stdout",
     "output_type": "stream",
     "text": [
      "34\n",
      "Zalik zdalo...34 studentiv\n"
     ]
    }
   ],
   "source": [
    "n = 101\n",
    "while n < 0 or n >= 100:\n",
    "    n = int(input())\n",
    "    \n",
    "print(\"Zalik zdalo...\", end='') \n",
    "strRes = str(n) + \" student\"\n",
    "\n",
    "if n != 1:\n",
    "    if n>=5:\n",
    "        strRes += \"iv\"\n",
    "    else:\n",
    "        strRes += \"y\"\n",
    "\n",
    "print(strRes)    "
   ]
  },
  {
   "cell_type": "code",
   "execution_count": 8,
   "metadata": {},
   "outputs": [
    {
     "name": "stdout",
     "output_type": "stream",
     "text": [
      "a 0.5\n",
      "b 10\n",
      "0.688209837593348\n"
     ]
    }
   ],
   "source": [
    "from math import *\n",
    "\n",
    "def getRealNumber(inp_str):\n",
    "    inp = -10.0\n",
    "    while inp < 0 :\n",
    "        inp = float(input(inp_str))\n",
    "    return float(inp)\n",
    "\n",
    "def function(a, b):\n",
    "    return (sqrt(a*b)/(exp(a)*b)) + a*exp((2*a)/b)\n",
    "\n",
    "a = getRealNumber(\"a \")\n",
    "b = getRealNumber(\"b \")\n",
    "\n",
    "print(function(a ,b))\n",
    "    "
   ]
  },
  {
   "cell_type": "code",
   "execution_count": 11,
   "metadata": {},
   "outputs": [
    {
     "name": "stdout",
     "output_type": "stream",
     "text": [
      "n 4\n",
      "x 0.1\n",
      "1.1111\n"
     ]
    }
   ],
   "source": [
    "n = int(input('n '))\n",
    "x = float(input('x '))\n",
    "\n",
    "def progress(n, x):\n",
    "    progress_result = 0\n",
    "\n",
    "    for i in range(n+1):\n",
    "        progress_result += x**i\n",
    "  \n",
    "    return progress_result\n",
    "\n",
    "print(progress(n, x))\n"
   ]
  },
  {
   "cell_type": "code",
   "execution_count": 18,
   "metadata": {},
   "outputs": [
    {
     "name": "stdout",
     "output_type": "stream",
     "text": [
      "17\n",
      "True\n"
     ]
    }
   ],
   "source": [
    "def isProste(n):\n",
    "    tmp = 2\n",
    "    while n % tmp != 0 and tmp * tmp <= n:\n",
    "        tmp += 1\n",
    "    return n < tmp * tmp\n",
    "\n",
    "print(isProste(int(input())))"
   ]
  },
  {
   "cell_type": "code",
   "execution_count": 22,
   "metadata": {},
   "outputs": [
    {
     "name": "stdout",
     "output_type": "stream",
     "text": [
      "43653453\n",
      "=========\n",
      "4\n",
      "3\n",
      "6\n",
      "5\n",
      "3\n",
      "4\n",
      "5\n",
      "3\n"
     ]
    }
   ],
   "source": [
    "num = int(input())\n",
    "print('=========')\n",
    "for digit in str(num):\n",
    "    print(digit)"
   ]
  },
  {
   "cell_type": "code",
   "execution_count": 23,
   "metadata": {},
   "outputs": [
    {
     "name": "stdout",
     "output_type": "stream",
     "text": [
      "Hello)\n",
      "H e l l o ) "
     ]
    }
   ],
   "source": [
    "word = input()\n",
    "\n",
    "for letter in word[:]:\n",
    "    print(letter, end=' ')"
   ]
  },
  {
   "cell_type": "code",
   "execution_count": 28,
   "metadata": {},
   "outputs": [
    {
     "name": "stdout",
     "output_type": "stream",
     "text": [
      "Hello Word\n",
      "Word Hello\n"
     ]
    }
   ],
   "source": [
    "base_str = input()\n",
    "res_strr = ''\n",
    "\n",
    "space_index = base_str.index(' ')\n",
    "res_strr = base_str[space_index+1:] + ' ' + base_str[:space_index]\n",
    "\n",
    "print(res_strr)"
   ]
  },
  {
   "cell_type": "code",
   "execution_count": 31,
   "metadata": {},
   "outputs": [
    {
     "name": "stdout",
     "output_type": "stream",
     "text": [
      "6\n",
      "8\n"
     ]
    }
   ],
   "source": [
    "def phib(n):\n",
    "    if n in (1, 2):\n",
    "        return 1\n",
    "    return phib(n-1) + phib(n-2)\n",
    "\n",
    "print(phib(int(input())))"
   ]
  }
 ],
 "metadata": {
  "kernelspec": {
   "display_name": "Python 3",
   "language": "python",
   "name": "python3"
  },
  "language_info": {
   "codemirror_mode": {
    "name": "ipython",
    "version": 3
   },
   "file_extension": ".py",
   "mimetype": "text/x-python",
   "name": "python",
   "nbconvert_exporter": "python",
   "pygments_lexer": "ipython3",
   "version": "3.8.3"
  }
 },
 "nbformat": 4,
 "nbformat_minor": 4
}
