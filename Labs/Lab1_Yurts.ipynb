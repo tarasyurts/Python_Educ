{
 "cells": [
  {
   "cell_type": "code",
   "execution_count": 32,
   "metadata": {},
   "outputs": [
    {
     "name": "stdin",
     "output_type": "stream",
     "text": [
      " 25\n"
     ]
    }
   ],
   "source": [
    "x = int(input())"
   ]
  },
  {
   "cell_type": "code",
   "execution_count": 33,
   "metadata": {},
   "outputs": [
    {
     "name": "stdout",
     "output_type": "stream",
     "text": [
      "25\n"
     ]
    }
   ],
   "source": [
    "print(x)"
   ]
  },
  {
   "cell_type": "code",
   "execution_count": 34,
   "metadata": {},
   "outputs": [
    {
     "name": "stdout",
     "output_type": "stream",
     "text": [
      "25.8\n"
     ]
    }
   ],
   "source": [
    "x += 0.8\n",
    "print(x)"
   ]
  },
  {
   "cell_type": "code",
   "execution_count": 37,
   "metadata": {},
   "outputs": [
    {
     "name": "stdout",
     "output_type": "stream",
     "text": [
      "25\n"
     ]
    }
   ],
   "source": [
    "x = int(x)\n",
    "print(x)"
   ]
  },
  {
   "cell_type": "code",
   "execution_count": 1,
   "metadata": {},
   "outputs": [
    {
     "name": "stdout",
     "output_type": "stream",
     "text": [
      "34\n",
      "Zalik zdalo...34 studentiv\n"
     ]
    }
   ],
   "source": [
    "n = 101\n",
    "while n < 0 or n >= 100:\n",
    "    n = int(input())\n",
    "    \n",
    "print(\"Zalik zdalo...\", end='') \n",
    "strRes = str(n) + \" student\"\n",
    "\n",
    "if n != 1:\n",
    "    if n>=5:\n",
    "        strRes += \"iv\"\n",
    "    else:\n",
    "        strRes += \"y\"\n",
    "\n",
    "print(strRes)    "
   ]
  },
  {
   "cell_type": "code",
   "execution_count": 8,
   "metadata": {},
   "outputs": [
    {
     "name": "stdout",
     "output_type": "stream",
     "text": [
      "a 0.5\n",
      "b 10\n",
      "0.688209837593348\n"
     ]
    }
   ],
   "source": [
    "from math import *\n",
    "\n",
    "def getRealNumber(var):\n",
    "    inp = -10.0\n",
    "    while inp < 0 :\n",
    "        inp = float(input(var))\n",
    "    return float(inp)\n",
    "\n",
    "def function(a, b):\n",
    "    return (sqrt(a*b)/(exp(a)*b)) + a*exp((2*a)/b)\n",
    "\n",
    "a = getRealNumber(\"a \")\n",
    "b = getRealNumber(\"b \")\n",
    "\n",
    "print(function(a ,b))\n",
    "    "
   ]
  },
  {
   "cell_type": "code",
   "execution_count": null,
   "metadata": {},
   "outputs": [],
   "source": []
  },
  {
   "cell_type": "code",
   "execution_count": null,
   "metadata": {},
   "outputs": [],
   "source": []
  },
  {
   "cell_type": "code",
   "execution_count": null,
   "metadata": {},
   "outputs": [],
   "source": []
  },
  {
   "cell_type": "code",
   "execution_count": null,
   "metadata": {},
   "outputs": [],
   "source": []
  },
  {
   "cell_type": "code",
   "execution_count": null,
   "metadata": {},
   "outputs": [],
   "source": []
  }
 ],
 "metadata": {
  "kernelspec": {
   "display_name": "Python 3",
   "language": "python",
   "name": "python3"
  },
  "language_info": {
   "codemirror_mode": {
    "name": "ipython",
    "version": 3
   },
   "file_extension": ".py",
   "mimetype": "text/x-python",
   "name": "python",
   "nbconvert_exporter": "python",
   "pygments_lexer": "ipython3",
   "version": "3.8.3"
  }
 },
 "nbformat": 4,
 "nbformat_minor": 4
}
