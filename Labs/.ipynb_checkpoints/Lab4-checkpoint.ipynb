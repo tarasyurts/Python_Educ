{
 "cells": [
  {
   "cell_type": "code",
   "execution_count": 13,
   "metadata": {},
   "outputs": [
    {
     "name": "stdout",
     "output_type": "stream",
     "text": [
      "24\n"
     ]
    }
   ],
   "source": [
    "# Сума цифр в числі (код в один рядок)\n",
    "\n",
    "num = 24342342\n",
    "\n",
    "print(sum(map(int, list(str(num)))))"
   ]
  },
  {
   "cell_type": "code",
   "execution_count": 19,
   "metadata": {},
   "outputs": [
    {
     "name": "stdout",
     "output_type": "stream",
     "text": [
      "False\n"
     ]
    }
   ],
   "source": [
    "# Визначити чи всі елементи в списку унікальні\n",
    "\n",
    "some_list = [3,5,7,42,7,2,93,5,0,24]\n",
    "\n",
    "print(len(set(some_list)) == len(some_list))\n"
   ]
  },
  {
   "cell_type": "code",
   "execution_count": 32,
   "metadata": {},
   "outputs": [
    {
     "name": "stdout",
     "output_type": "stream",
     "text": [
      "0 0 0 0 0\n",
      "0 0 0 0 0\n",
      "0 0 0 0 0\n",
      "0 0 0 0 0\n"
     ]
    }
   ],
   "source": [
    "rows = 4\n",
    "cols = 5\n",
    "\n",
    "а=[[0 for j in range(cols)] for i in range(rows)]\n",
    "\n",
    "for i in range(rows):\n",
    "    print(' '.join(map(str, а[i])))"
   ]
  },
  {
   "cell_type": "code",
   "execution_count": 35,
   "metadata": {},
   "outputs": [
    {
     "name": "stdout",
     "output_type": "stream",
     "text": [
      "0 0 0 0 0 0\n",
      "1 1 1 1 1 1\n",
      "2 2 2 2 2 2\n",
      "3 3 3 3 3 3\n",
      "4 4 4 4 4 4\n"
     ]
    }
   ],
   "source": [
    "rows = 5\n",
    "cols = 6\n",
    "\n",
    "а=[[i for j in range(cols)] for i in range(rows)]\n",
    "\n",
    "for i in range(rows):\n",
    "    print(' '.join(map(str, а[i])))"
   ]
  },
  {
   "cell_type": "code",
   "execution_count": 37,
   "metadata": {},
   "outputs": [
    {
     "name": "stdout",
     "output_type": "stream",
     "text": [
      "0 1 2 3 4 5\n",
      "0 1 2 3 4 5\n",
      "0 1 2 3 4 5\n",
      "0 1 2 3 4 5\n",
      "0 1 2 3 4 5\n"
     ]
    }
   ],
   "source": [
    "rows = 5\n",
    "cols = 6\n",
    "\n",
    "а=[[j for j in range(cols)] for i in range(rows)]\n",
    "\n",
    "for i in range(rows):\n",
    "    print(' '.join(map(str, а[i])))"
   ]
  },
  {
   "cell_type": "code",
   "execution_count": 43,
   "metadata": {},
   "outputs": [
    {
     "name": "stdout",
     "output_type": "stream",
     "text": [
      "1 0 1 0 1 0\n",
      "0 1 0 1 0 1\n",
      "1 0 1 0 1 0\n",
      "0 1 0 1 0 1\n",
      "1 0 1 0 1 0\n"
     ]
    }
   ],
   "source": [
    "rows = 5\n",
    "cols = 6\n",
    "\n",
    "а=[[1 if not (i+j)%2 else 0 for j in range(cols)] for i in range(rows)]\n",
    "\n",
    "for i in range(rows):\n",
    "    print(' '.join(map(str, а[i])))"
   ]
  },
  {
   "cell_type": "code",
   "execution_count": 47,
   "metadata": {},
   "outputs": [
    {
     "name": "stdout",
     "output_type": "stream",
     "text": [
      "0 1 2 3 4\n",
      "5 6 7 8 9\n",
      "10 11 12 13 14\n",
      "15 16 17 18 19\n"
     ]
    }
   ],
   "source": [
    "rows = 4\n",
    "cols = 5\n",
    "\n",
    "iter_range = iter(range(rows*cols))\n",
    "\n",
    "а=[[next(iter_range) for j in range(cols)] for i in range(rows)]\n",
    "\n",
    "for i in range(rows):\n",
    "    print(' '.join(map(str, а[i])))"
   ]
  },
  {
   "cell_type": "code",
   "execution_count": 49,
   "metadata": {},
   "outputs": [
    {
     "name": "stdout",
     "output_type": "stream",
     "text": [
      "0 1 2 3 4\n",
      "1 1 2 3 4\n",
      "2 2 2 3 4\n",
      "3 3 3 3 4\n",
      "4 4 4 4 4\n"
     ]
    }
   ],
   "source": [
    "rows = 5\n",
    "cols = 5\n",
    "\n",
    "а=[[max(i,j) for j in range(cols)] for i in range(rows)]\n",
    "\n",
    "for i in range(rows):\n",
    "    print(' '.join(map(str, а[i])))"
   ]
  },
  {
   "cell_type": "code",
   "execution_count": 53,
   "metadata": {},
   "outputs": [
    {
     "name": "stdout",
     "output_type": "stream",
     "text": [
      "0 1 2 0 1\n",
      "2 0 1 2 0\n",
      "1 2 0 1 2\n",
      "0 1 2 0 1\n",
      "2 0 1 2 0\n"
     ]
    }
   ],
   "source": [
    "rows = 5\n",
    "cols = 5\n",
    "\n",
    "iter_range = iter(range(rows*cols))\n",
    "\n",
    "а=[[next(iter_range)%3 for j in range(cols)] for i in range(rows)]\n",
    "\n",
    "for i in range(rows):\n",
    "    print(' '.join(map(str, а[i])))"
   ]
  },
  {
   "cell_type": "code",
   "execution_count": 62,
   "metadata": {},
   "outputs": [
    {
     "name": "stdout",
     "output_type": "stream",
     "text": [
      "1 0 0 0 0\n",
      "1 1 0 0 0\n",
      "1 1 1 0 0\n",
      "1 1 1 1 0\n",
      "1 1 1 1 1\n"
     ]
    }
   ],
   "source": [
    "rows = 5\n",
    "cols = 5\n",
    "\n",
    "а=[[ 1 if i>=j else 0 for j in range(cols)] for i in range(rows)]\n",
    "\n",
    "for i in range(rows):\n",
    "    print(' '.join(map(str, а[i])))"
   ]
  },
  {
   "cell_type": "code",
   "execution_count": 77,
   "metadata": {},
   "outputs": [
    {
     "name": "stdout",
     "output_type": "stream",
     "text": [
      "1 0 0 0 0 0 1\n",
      "0 1 0 0 0 1 0\n",
      "0 0 1 0 1 0 0\n",
      "0 0 0 1 0 0 0\n",
      "0 0 1 0 1 0 0\n",
      "0 1 0 0 0 1 0\n",
      "1 0 0 0 0 0 1\n"
     ]
    }
   ],
   "source": [
    "rows = 7\n",
    "cols = 7\n",
    "\n",
    "а=[[ 1 if i==j or i+j==cols-1 else 0 for j in range(cols)] for i in range(rows)]\n",
    "\n",
    "for i in range(rows):\n",
    "    print(' '.join(map(str, а[i])))"
   ]
  },
  {
   "cell_type": "code",
   "execution_count": 94,
   "metadata": {},
   "outputs": [
    {
     "name": "stdout",
     "output_type": "stream",
     "text": [
      "1 0 2 0 3\n",
      "0 4 0 5 0\n",
      "6 0 7 0 8\n",
      "0 9 0 10 0\n",
      "11 0 12 0 13\n"
     ]
    }
   ],
   "source": [
    "rows = 5\n",
    "cols = 5\n",
    "\n",
    "b = [[ (0, int((x + rows * i)/2 + 1))[(x + i) % 2 == 0] for x in range(rows)]for i in range(rows)]\n",
    "\n",
    "for i in range(rows):\n",
    "    print(' '.join(map(str, b[i])))"
   ]
  },
  {
   "cell_type": "code",
   "execution_count": 141,
   "metadata": {},
   "outputs": [],
   "source": [
    "# rows = 7\n",
    "# cols = 7\n",
    "\n",
    "# а=[[ 1 for j in range(cols)] for i in range(rows)]\n",
    "\n",
    "# for i in range(rows):\n",
    "#     print(' '.join(map(str, а[i])))"
   ]
  },
  {
   "cell_type": "code",
   "execution_count": 127,
   "metadata": {},
   "outputs": [
    {
     "name": "stdout",
     "output_type": "stream",
     "text": [
      "{'Yurts': 78, 'Andrukh': 66, 'Mikhailovich': 47, 'Bohak': 58, 'Rebeha': 98}\n"
     ]
    }
   ],
   "source": [
    "import random\n",
    "\n",
    "surnames_tuple = ('Yurts', 'Andrukh', 'Mikhailovich', 'Bohak', 'Rebeha')\n",
    "\n",
    "rnd_marks = [random.randint(1, 100) for i in range(len(surnames_tuple)) ]\n",
    "\n",
    "print(dict(zip(surnames_tuple,rnd_marks)))"
   ]
  },
  {
   "cell_type": "code",
   "execution_count": 130,
   "metadata": {},
   "outputs": [
    {
     "name": "stdout",
     "output_type": "stream",
     "text": [
      "[['0 0', '0 1'], ['1 0', '1 1']]\n"
     ]
    }
   ],
   "source": [
    "digits = [0,1]\n",
    "\n",
    "print([ [ str(digit_fir)+' '+str(digit_sec) for digit_sec in digits] for digit_fir in digits ])\n"
   ]
  },
  {
   "cell_type": "code",
   "execution_count": 140,
   "metadata": {},
   "outputs": [
    {
     "name": "stdout",
     "output_type": "stream",
     "text": [
      "{'some': 1, 'text': 2, 'azaza': 2, 'kek': 2, 'there': 1, 'is': 1, 'something': 1, 'here': 1, 'fif': 1}\n"
     ]
    }
   ],
   "source": [
    "some_text = 'Some text azaza, kek text there is something here kek azaza. Fif !'\n",
    "\n",
    "not_include = [',', '.', '!', '?']\n",
    "words_list = ''.join([char for char in some_text.lower() if char not in not_include]).split()\n",
    "words_amount_dict = {word:words_list.count(word) for word in words_list}\n",
    "\n",
    "print(words_amount_dict)"
   ]
  },
  {
   "cell_type": "code",
   "execution_count": 153,
   "metadata": {},
   "outputs": [
    {
     "name": "stdout",
     "output_type": "stream",
     "text": [
      "Yurts Peliface Andrukh Pomidoriv Mikhailovich Bohak Popov Rebeha SomeSurname\n",
      "['Peliface', 'Pomidoriv', 'Popov']\n"
     ]
    }
   ],
   "source": [
    "# Робота з файлами \n",
    "\n",
    "fl = open('lab4_text_file.txt')\n",
    "\n",
    "surnames = fl.read()\n",
    "print(surnames)\n",
    "\n",
    "surnames_p = [surname for surname in surnames.split() if surname[0]=='P']\n",
    "print(surnames_p)\n",
    "\n",
    "fl.close()"
   ]
  },
  {
   "cell_type": "code",
   "execution_count": 158,
   "metadata": {},
   "outputs": [
    {
     "name": "stdout",
     "output_type": "stream",
     "text": [
      "['Yurts Peliface Andrukh Pomidoriv Mikhailovich Bohak Popov Rebeha SomeSurname\\n', 'SomeLineData2 SomeLineData2SomeLineData2\\n', 'LALALA llalallalal']\n"
     ]
    }
   ],
   "source": [
    "try:\n",
    "    with open('lab4_text_file.txt') as f:\n",
    "        lines = [line for line in f]\n",
    "        print(lines)\n",
    "except FileNotFoundError:\n",
    "    print('File not found')\n",
    "    "
   ]
  },
  {
   "cell_type": "code",
   "execution_count": null,
   "metadata": {},
   "outputs": [],
   "source": []
  }
 ],
 "metadata": {
  "kernelspec": {
   "display_name": "Python 3",
   "language": "python",
   "name": "python3"
  },
  "language_info": {
   "codemirror_mode": {
    "name": "ipython",
    "version": 3
   },
   "file_extension": ".py",
   "mimetype": "text/x-python",
   "name": "python",
   "nbconvert_exporter": "python",
   "pygments_lexer": "ipython3",
   "version": "3.8.3"
  }
 },
 "nbformat": 4,
 "nbformat_minor": 4
}
