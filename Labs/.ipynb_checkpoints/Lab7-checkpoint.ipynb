{
 "cells": [
  {
   "cell_type": "code",
   "execution_count": 51,
   "metadata": {},
   "outputs": [],
   "source": [
    "# ЗАВДАННЯ 1\n",
    "\n",
    "import math\n",
    "import requests\n",
    "import json\n",
    "\n",
    "class Triangle:\n",
    "    def __init__(self, side_a, side_b, side_c):\n",
    "        self.side_a = side_a\n",
    "        self.side_b = side_b\n",
    "        self.side_c = side_c\n",
    "        \n",
    "    def perimeter(self):\n",
    "        return self.side_a + self.side_b + self.side_c\n",
    "    \n",
    "    def square(self):\n",
    "        half_perimter = self.perimeter() / 2;\n",
    "        return math.sqrt(half_perimter*(half_perimter-self.side_a)*(half_perimter-self.side_b)*(half_perimter-self.side_c))\n",
    "    \n",
    "class EquilateralTriangle(Triangle):\n",
    "    def __init__(self, side):\n",
    "        Triangle.__init__(self, side, side, side)\n",
    "    \n",
    "    def square(self):\n",
    "        return (math.sqrt(3)/4)*(self.side_a**2)\n",
    "    "
   ]
  },
  {
   "cell_type": "code",
   "execution_count": 52,
   "metadata": {},
   "outputs": [
    {
     "name": "stdout",
     "output_type": "stream",
     "text": [
      "7.483314773547883\n"
     ]
    }
   ],
   "source": [
    "triangle = Triangle(3, 5, 6)\n",
    "print(triangle.square())"
   ]
  },
  {
   "cell_type": "code",
   "execution_count": 53,
   "metadata": {},
   "outputs": [
    {
     "name": "stdout",
     "output_type": "stream",
     "text": [
      "6.928203230275509\n"
     ]
    }
   ],
   "source": [
    "equilateral_triangle = EquilateralTriangle(4)\n",
    "print(equilateral_triangle.square())"
   ]
  },
  {
   "cell_type": "code",
   "execution_count": 60,
   "metadata": {},
   "outputs": [
    {
     "name": "stdout",
     "output_type": "stream",
     "text": [
      "55 USD -> RUR = 3953.5623409669206\n",
      "77 EUR -> UAN = 2537.15\n",
      "2500 UAN -> USD = 87.22958827634334\n"
     ]
    }
   ],
   "source": [
    "# ЗАВДАННЯ 2\n",
    "\n",
    "\n",
    "class CurrencyExchanger:\n",
    "    \n",
    "    def __init__(self, api_request = \"https://api.privatbank.ua/p24api/pubinfo?json&exchange&coursid=5\"):\n",
    "        self.update_exchanger_data(api_request)\n",
    "        \n",
    "    def update_exchanger_data(self, api_request = \"https://api.privatbank.ua/p24api/pubinfo?json&exchange&coursid=5\"):\n",
    "        exchange_request_data = requests.get(api_request)\n",
    "        self.exchanger_data=json.loads(exchange_request_data.text)\n",
    "    \n",
    "    def __sale(self, amount_to_sale, currency_to_get):\n",
    "        for currency_data in self.exchanger_data:\n",
    "            if currency_data['ccy'] == currency_to_get:\n",
    "                return amount_to_sale / float(currency_data['sale'])\n",
    "        return -1    \n",
    "\n",
    "    def __buy(self, amount_to_buy, currency_to_give):\n",
    "        for currency_data in self.exchanger_data:\n",
    "            if currency_data['ccy'] == currency_to_give:\n",
    "                return amount_to_buy * float(currency_data['buy'])\n",
    "        return -1    \n",
    "            \n",
    "    def convert(self, amount_to_convert, currency_to_sale, currency_to_buy):\n",
    "        if currency_to_sale == 'UAN':\n",
    "            return self.__sale(amount_to_convert, currency_to_buy)\n",
    "        elif currency_to_buy == 'UAN':\n",
    "            return self.__buy(amount_to_convert, currency_to_sale)\n",
    "        return self.__buy(self.__sale(amount_to_convert, currency_to_buy), currency_to_sale)\n",
    "        \n",
    "        \n",
    "currency_exhanger = CurrencyExchanger()\n",
    "\n",
    "print(\"55 USD -> RUR = \" + str(currency_exhanger.convert(55, 'USD', \"RUR\")))\n",
    "print(\"77 EUR -> UAN = \" + str(currency_exhanger.convert(77, 'EUR', \"UAN\")))\n",
    "print(\"2500 UAN -> USD = \" + str(currency_exhanger.convert(2500, 'UAN', \"USD\")))"
   ]
  },
  {
   "cell_type": "code",
   "execution_count": 50,
   "metadata": {},
   "outputs": [
    {
     "name": "stdout",
     "output_type": "stream",
     "text": [
      "незарах\n",
      "зарах\n"
     ]
    }
   ],
   "source": [
    "# ЗАВДАННЯ 3\n",
    "\n",
    "class Student:\n",
    "    \n",
    "    surname = ''\n",
    "    __zalik = ''\n",
    "    \n",
    "    def __init__(self, surname, zalik):\n",
    "        self.surname = surname\n",
    "        self.set_zalik(zalik)\n",
    "\n",
    "    def set_zalik(self, zalik):\n",
    "        self.__zalik = 'зарах' if zalik >= 50 else 'незарах'\n",
    "\n",
    "    def get_zalik(self):\n",
    "        return self.__zalik\n",
    "    \n",
    "student = Student('Yurts', 47)\n",
    "\n",
    "print(student.get_zalik())\n",
    "\n",
    "student.set_zalik(92)\n",
    "\n",
    "print(student.get_zalik())\n"
   ]
  }
 ],
 "metadata": {
  "kernelspec": {
   "display_name": "Python 3",
   "language": "python",
   "name": "python3"
  },
  "language_info": {
   "codemirror_mode": {
    "name": "ipython",
    "version": 3
   },
   "file_extension": ".py",
   "mimetype": "text/x-python",
   "name": "python",
   "nbconvert_exporter": "python",
   "pygments_lexer": "ipython3",
   "version": "3.8.3"
  }
 },
 "nbformat": 4,
 "nbformat_minor": 4
}
