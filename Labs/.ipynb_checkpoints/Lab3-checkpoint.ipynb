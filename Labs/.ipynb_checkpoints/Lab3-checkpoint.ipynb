{
 "cells": [
  {
   "cell_type": "code",
   "execution_count": 39,
   "metadata": {},
   "outputs": [
    {
     "name": "stdout",
     "output_type": "stream",
     "text": [
      "Apple 3.2 \n",
      "Banane 12.3 \n",
      "Orange 5.8 \n",
      "Melon 7.2 \n",
      "Cherry 4.6 \n",
      "================\n",
      "\n",
      "Введіть бажаний товар / N, щоб вийти: cherry\n",
      "К-сть: 17\n",
      "Введіть бажаний товар / N, щоб вийти: melon\n",
      "К-сть: 15\n",
      "Введіть бажаний товар / N, щоб вийти: orange3\n",
      "Товар відсутній\n",
      "========\n",
      "Введіть бажаний товар / N, щоб вийти: orange\n",
      "К-сть: 7\n",
      "Введіть бажаний товар / N, щоб вийти: n\n",
      "\n",
      "==== CHECK: ====\n",
      "['Cherry', '4.6x17=', 78.2]\n",
      "['Melon', '7.2x15=', 108.0]\n",
      "['Orange', '5.8x7=', 40.6]\n",
      "================\n",
      "Total: 226.79999999999998\n"
     ]
    }
   ],
   "source": [
    "# Завдання 1\n",
    "\n",
    "def is_in_goods(good_name):\n",
    "    for good in goods:\n",
    "        if(good_name.upper() in ''.join(str(elem) for elem in good).upper()):\n",
    "            return True\n",
    "    return False    \n",
    "\n",
    "def get_int_input(msg):\n",
    "    while(True):\n",
    "        try:\n",
    "            num = int(input(msg))\n",
    "        except ValueError:\n",
    "            print(\"Не правильний тип\")\n",
    "            continue\n",
    "        else:\n",
    "            return num\n",
    "\n",
    "def add_to_receipt(good_name, amount):\n",
    "    for good in goods:\n",
    "        if(good_name.upper() in ''.join(str(elem) for elem in good).upper()):\n",
    "            receipt_item = [good[0], str(good[1]) + 'x' + str(amount) + \"=\", round(good[1] * amount, 2)]\n",
    "            receipt.append(receipt_item)\n",
    "    \n",
    "def print_receipt():\n",
    "    print(\"\\n==== CHECK: ====\")\n",
    "    total_sum = 0\n",
    "    for item in receipt:\n",
    "        print(item)\n",
    "        total_sum += item[2]\n",
    "    print('================')\n",
    "    print('Total: ' + str(total_sum))\n",
    "        \n",
    "goods = [[\"Apple\", 3.2], [\"Banane\", 12.3], [\"Orange\", 5.8], [\"Melon\", 7.2], [\"Cherry\", 4.6]]\n",
    "receipt = []\n",
    "\n",
    "for good in goods:\n",
    "    for item in good:\n",
    "        print(item, end = ' ')\n",
    "    print()\n",
    "print('================\\n')\n",
    "\n",
    "    \n",
    "while(True):\n",
    "    good_to_buy = input(\"Введіть бажаний товар / N, щоб вийти: \")\n",
    "    \n",
    "    if good_to_buy.upper() == 'N':\n",
    "        break\n",
    "        \n",
    "    if not is_in_goods(good_to_buy):\n",
    "        print(\"Товар відсутній\\n========\")\n",
    "        continue\n",
    "        \n",
    "    amount = get_int_input(\"К-сть: \")\n",
    "    add_to_receipt(good_to_buy, amount)\n",
    "\n",
    "print_receipt()   \n",
    "    "
   ]
  },
  {
   "cell_type": "code",
   "execution_count": 72,
   "metadata": {},
   "outputs": [
    {
     "name": "stdout",
     "output_type": "stream",
     "text": [
      "\n",
      "===2===\n",
      "dict_values(['Liv', 'Maria', [5, 5, 4]])\n",
      "\n",
      "===3===\n",
      "Liv        Maria    [5, 5, 4]\n",
      "Dobrov     Olek     [3, 1, 3, 2]\n",
      "Yurts      Taras    [5, 4, 5, 5]\n",
      "Tukalo     Olga     [3, 4, 3, 5]\n",
      "\n",
      "===4, 5===\n",
      "{'Liv': 4.666666666666667, 'Dobrov': 2.25, 'Yurts': 4.75, 'Tukalo': 3.75}\n",
      "\n",
      "===6===\n",
      "3.854166666666667\n"
     ]
    }
   ],
   "source": [
    "# Завдання 2\n",
    "\n",
    "group = [\n",
    "    {'surname':'Liv', 'name':'Maria', 'marks':[5, 5, 4]},\n",
    "    {'surname':'Dobrov', 'name':'Olek', 'marks':[3, 1, 3, 2]},\n",
    "    {'surname':'Yurts', 'name':'Taras', 'marks':[5, 4, 5, 5]},\n",
    "    {'surname':'Tukalo', 'name':'Olga', 'marks':[3, 4, 3, 5]},\n",
    "]\n",
    "\n",
    "print(\"\\n===2===\")\n",
    "\n",
    "print(group[0].values())\n",
    "\n",
    "average_marks = {}\n",
    "\n",
    "print(\"\\n===3===\")\n",
    "\n",
    "for student in group:\n",
    "    print(student['surname'].ljust(10), student['name'].ljust(8),student['marks']) #3\n",
    "\n",
    "print(\"\\n===4, 5===\")\n",
    "    \n",
    "for student in group:\n",
    "    avarage_mark = sum(student['marks']) / len(student['marks']) #4\n",
    "    average_marks[student['surname']] = avarage_mark #5\n",
    "    \n",
    "print(average_marks)    \n",
    "\n",
    "print(\"\\n===6===\")\n",
    "\n",
    "print(sum(list(average_marks.values()))/len(average_marks))\n",
    "\n",
    "\n"
   ]
  },
  {
   "cell_type": "code",
   "execution_count": 94,
   "metadata": {},
   "outputs": [
    {
     "name": "stdout",
     "output_type": "stream",
     "text": [
      "A: {1, 2, 4, 5, 7, 9}\n",
      "b: {3, 4, 5, 6, 17, 93}\n",
      "=========\n",
      "Елементи з двох списків: {1, 2, 3, 4, 5, 6, 7, 9, 17, 93}\n",
      "Елементи що тільки в першому списку: {1, 2, 9, 7}\n"
     ]
    }
   ],
   "source": [
    "# Завдання 3\n",
    "\n",
    "A = set([1,2,5,7,2,4,9])\n",
    "B = set([4,3,6,17,93,5])\n",
    "\n",
    "print(\"A: \"+ str(A))\n",
    "print(\"b: \"+ str(B))\n",
    "\n",
    "print(\"=========\")\n",
    "\n",
    "print(\"Елементи з двох списків: \" + str( A.union(B) ))\n",
    "print(\"Елементи що тільки в першому списку: \" + str( A.difference(B) ))"
   ]
  },
  {
   "cell_type": "code",
   "execution_count": 95,
   "metadata": {},
   "outputs": [
    {
     "name": "stdout",
     "output_type": "stream",
     "text": [
      "Введіть рядок: Моя нова машина показала себе з хоршої сторони\n",
      "3\n"
     ]
    }
   ],
   "source": [
    "# Завдання 4\n",
    "\n",
    "some_string = input(\"Введіть рядок: \")\n",
    "\n",
    "words_set = set(some_string.split())\n",
    "\n",
    "count = 0\n",
    "\n",
    "for word in words_set:\n",
    "    if 'а' in word:\n",
    "        count += 1\n",
    "print(count)"
   ]
  },
  {
   "cell_type": "code",
   "execution_count": null,
   "metadata": {},
   "outputs": [],
   "source": [
    "str = 'Hello, world!'\n",
    "str_tuple = tuple(str)\n",
    "\n",
    "print(str_tupler)"
   ]
  }
 ],
 "metadata": {
  "kernelspec": {
   "display_name": "Python 3",
   "language": "python",
   "name": "python3"
  },
  "language_info": {
   "codemirror_mode": {
    "name": "ipython",
    "version": 3
   },
   "file_extension": ".py",
   "mimetype": "text/x-python",
   "name": "python",
   "nbconvert_exporter": "python",
   "pygments_lexer": "ipython3",
   "version": "3.8.3"
  }
 },
 "nbformat": 4,
 "nbformat_minor": 4
}
