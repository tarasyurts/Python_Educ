{
 "cells": [
  {
   "cell_type": "code",
   "execution_count": 74,
   "metadata": {},
   "outputs": [
    {
     "name": "stdout",
     "output_type": "stream",
     "text": [
      "3\n",
      "17\n",
      "True\n",
      "False\n",
      "False\n",
      "[-2 -3 -1]\n",
      "[-3 -2 -1  0  0  0  0  0  1  3  4  5  5  5  6  6  7  7  9  9 11]\n"
     ]
    }
   ],
   "source": [
    "import numpy as np\n",
    "\n",
    "\n",
    "lst_temp = [4,1,0,-2,5,7,-3,0,0,5,0,-1,3,6,9,5,7,11,9,6,0];\n",
    "arr_temp = np.array(lst_temp);\n",
    "\n",
    "print(arr_temp[arr_temp<0].size)\n",
    "print(arr_temp.argmax());\n",
    "print(np.any(arr_temp>10));\n",
    "print(np.any(arr_temp>20));\n",
    "print(np.all(arr_temp<10));\n",
    "print(arr_temp[arr_temp<0]);\n",
    "print(np.sort(arr_temp));"
   ]
  },
  {
   "cell_type": "code",
   "execution_count": 80,
   "metadata": {},
   "outputs": [
    {
     "name": "stdout",
     "output_type": "stream",
     "text": [
      "[5 9]\n",
      "[ 6 14]\n",
      "[1 5]\n",
      "20\n",
      "7.615773105863909\n",
      "5.0990195135927845\n",
      "0.9284766908852592\n",
      "(2,)\n"
     ]
    }
   ],
   "source": [
    "v1 = np.array([3, 7]);\n",
    "v2 = np.array([2, 2]);\n",
    "\n",
    "print(v1 + v2);\n",
    "print(v1 * 2);\n",
    "print(v1 - v2);\n",
    "print(np.dot(v1, v2));\n",
    "print(np.linalg.norm(v1));\n",
    "print(np.linalg.norm(v1 - v2));\n",
    "print(np.dot(v1, v2) / (np.linalg.norm(v1) * np.linalg.norm(v2)));\n",
    "print(v1.shape);"
   ]
  },
  {
   "cell_type": "code",
   "execution_count": 92,
   "metadata": {},
   "outputs": [
    {
     "name": "stdout",
     "output_type": "stream",
     "text": [
      "[[1 2 3]\n",
      " [4 5 6]\n",
      " [7 8 9]]\n",
      "-------\n",
      "[7 8 9]\n",
      "-------\n",
      "[[ 3  5  7]\n",
      " [ 6  8 10]\n",
      " [ 9 11 13]]\n",
      "-------\n",
      "[20 47 74]\n",
      "-------\n",
      "[[1 4 7]\n",
      " [2 5 8]\n",
      " [3 6 9]]\n",
      "-------\n",
      "[[ True  True  True]\n",
      " [ True  True  True]\n",
      " [ True  True  True]]\n",
      "-------\n",
      "-9.51619735392994e-16\n",
      "-------\n",
      "[[ 3.15251974e+15 -6.30503948e+15  3.15251974e+15]\n",
      " [-6.30503948e+15  1.26100790e+16 -6.30503948e+15]\n",
      " [ 3.15251974e+15 -6.30503948e+15  3.15251974e+15]]\n",
      "-------\n",
      "2\n",
      "-------\n"
     ]
    }
   ],
   "source": [
    "mtrx = np.array([[1,2,3],[4,5,6],[7,8,9]])\n",
    "\n",
    "print(mtrx);\n",
    "print('-------');\n",
    "print(mtrx[2,:]);\n",
    "print('-------');\n",
    "mtrx2 = np.array([2, 3, 4]);\n",
    "print(mtrx + mtrx2);\n",
    "print('-------');\n",
    "print(np.dot(mtrx, mtrx2));\n",
    "print('-------');\n",
    "print(mtrx.T)\n",
    "print('-------');\n",
    "print(mtrx.T.T == mtrx)\n",
    "print('-------');\n",
    "print(np.linalg.det(mtrx));\n",
    "print('-------');\n",
    "print(np.linalg.inv(mtrx));\n",
    "print('-------');\n",
    "print(np.linalg.matrix_rank(mtrx));\n",
    "print('-------');\n"
   ]
  },
  {
   "cell_type": "code",
   "execution_count": 93,
   "metadata": {},
   "outputs": [
    {
     "name": "stdout",
     "output_type": "stream",
     "text": [
      "[1. 2.]\n",
      "[11.  8.]\n"
     ]
    }
   ],
   "source": [
    "a = np.array([[1,5],[2,3]])\n",
    "b = np.array([11,8])\n",
    "x = np.linalg.solve(a,b)\n",
    "print(x)\n",
    "print(np.dot(a, x))"
   ]
  }
 ],
 "metadata": {
  "kernelspec": {
   "display_name": "Python 3",
   "language": "python",
   "name": "python3"
  },
  "language_info": {
   "codemirror_mode": {
    "name": "ipython",
    "version": 3
   },
   "file_extension": ".py",
   "mimetype": "text/x-python",
   "name": "python",
   "nbconvert_exporter": "python",
   "pygments_lexer": "ipython3",
   "version": "3.8.3"
  }
 },
 "nbformat": 4,
 "nbformat_minor": 4
}
