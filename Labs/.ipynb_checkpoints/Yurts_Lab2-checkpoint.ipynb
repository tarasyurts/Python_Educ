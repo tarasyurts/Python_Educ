{
 "cells": [
  {
   "cell_type": "code",
   "execution_count": 11,
   "metadata": {},
   "outputs": [
    {
     "name": "stdout",
     "output_type": "stream",
     "text": [
      "Введіть к-сть елементів в масиві: 6\n",
      "Введіть число #1: 4\n",
      "Введіть число #2: 7\n",
      "Введіть число #3: -3\n",
      "Введіть число #4: 5\n",
      "Введіть число #5: 7\n",
      "Введіть число #6: 11\n"
     ]
    }
   ],
   "source": [
    "# ====  1  ====\n",
    "\n",
    "lst = []\n",
    "for i in range(int(input('Введіть к-сть елементів в масиві: '))):\n",
    "    lst.append(int(input('Введіть число #' + str(i+1) + \": \")))"
   ]
  },
  {
   "cell_type": "code",
   "execution_count": 14,
   "metadata": {},
   "outputs": [
    {
     "name": "stdout",
     "output_type": "stream",
     "text": [
      "Введіть к-сть випадкових елементів: 4\n",
      "[7, 8, 8, 9]\n",
      "[4, 7, -3, 5, 7, 11, 7, 8, 8, 9]\n"
     ]
    }
   ],
   "source": [
    "# ====  2  ====\n",
    "\n",
    "from random import randrange as rnd\n",
    "\n",
    "rnd_lst = []\n",
    "for i in range(int(input('Введіть к-сть випадкових елементів: '))):\n",
    "    rnd_lst.append(rnd(1,10))\n",
    "\n",
    "print(rnd_lst)\n",
    "lst += rnd_lst\n",
    "print(lst)\n"
   ]
  },
  {
   "cell_type": "code",
   "execution_count": 16,
   "metadata": {},
   "outputs": [
    {
     "name": "stdout",
     "output_type": "stream",
     "text": [
      "Введіть слово: Неймовірно\n",
      "['Н', 'е', 'й', 'м', 'о', 'в', 'і', 'р', 'н', 'о']\n"
     ]
    }
   ],
   "source": [
    "# ====  3  ====\n",
    "\n",
    "print(list(input('Введіть слово: ')))"
   ]
  },
  {
   "cell_type": "code",
   "execution_count": 18,
   "metadata": {},
   "outputs": [
    {
     "name": "stdout",
     "output_type": "stream",
     "text": [
      "Введіть х: 0\n",
      "На нуль ділити не можна!\n"
     ]
    }
   ],
   "source": [
    "# ====  ВИКЛЮЧЕННЯ ПОМИЛОК  ====\n",
    "# ====  1  ====\n",
    "\n",
    "x = int(input('Введіть х: '))\n",
    "try:\n",
    "    result = 1/x\n",
    "except ZeroDivisionError:\n",
    "    print('На нуль ділити не можна!')\n",
    "else:\n",
    "    print(result)\n"
   ]
  },
  {
   "cell_type": "code",
   "execution_count": null,
   "metadata": {},
   "outputs": [
    {
     "name": "stdout",
     "output_type": "stream",
     "text": [
      "My menu\n",
      "1: create list\n",
      "2:create natural range\n",
      "3: add element\n",
      "4: preview\n",
      "5: remove element\n",
      "6: exit\n",
      "Введіть бажану команду: 322\n",
      "Дане число не входить в пункти меню!\n",
      "Введіть бажану команду: -2\n",
      "Дане число не входить в пункти меню!\n",
      "Введіть бажану команду: 4\n",
      "None\n",
      "Введіть бажану команду: 2\n",
      "Довжина списку натуральних чисел: 23\n",
      "Введіть бажану команду: 4\n",
      "[0, 1, 2, 3, 4, 5, 6, 7, 8, 9, 10, 11, 12, 13, 14, 15, 16, 17, 18, 19, 20, 21, 22]\n"
     ]
    }
   ],
   "source": [
    "# ====  Основне завдання  ====\n",
    "\n",
    "\n",
    "class MyList:\n",
    "    \n",
    "    coll = None\n",
    "    \n",
    "    def init_collection(self):\n",
    "        self.coll = list()\n",
    "        print(\"Done\")\n",
    "        \n",
    "    def create_natural_range(self):\n",
    "        try:\n",
    "            self.coll = list(range(int(input('Довжина списку натуральних чисел: '))))\n",
    "        except ValueError:\n",
    "            print('Неправильний тип значення!')\n",
    "            \n",
    "        \n",
    "    def add_element(self):\n",
    "        elemenet_to_add = input('Element: ')\n",
    "        try:\n",
    "            self.coll.append(elemenet_to_add)\n",
    "        except:\n",
    "            print(\"Список ще не створений!\")\n",
    "    \n",
    "    def remove_element(self):\n",
    "        try:\n",
    "            index_to_delete = int(input('Індекс елемента: '))\n",
    "            if(0 <= index_to_delete < len(self.lst)):\n",
    "                self.coll.pop(index_to_delete)\n",
    "            else:\n",
    "                print('Дане число не входить в межі масиву!')\n",
    "        except ValueError:\n",
    "            print('Неправильний тип значення!')\n",
    "    \n",
    "    def show(self):\n",
    "        print(self.coll)\n",
    "        \n",
    "\n",
    "\n",
    "menu_text = 'My menu\\n1: create list\\n2:create natural range\\n3: add element\\n4: preview\\n5: remove element\\n6: exit'\n",
    "\n",
    "collection = MyList()\n",
    "\n",
    "def exit():\n",
    "    return -1\n",
    "\n",
    "switcher = {\n",
    "    1 : collection.init_collection,\n",
    "    2 : collection.create_natural_range,\n",
    "    3 : collection.add_element,\n",
    "    4 : collection.show,\n",
    "    5 : collection.remove_element,\n",
    "    6 : exit\n",
    "}\n",
    "\n",
    "print(menu_text)\n",
    "\n",
    "while(True):\n",
    "    try:\n",
    "        operation_num = int(input('Введіть бажану команду: '))\n",
    "        if 0<operation_num<=len(switcher):\n",
    "            func = switcher[operation_num]\n",
    "            if func() == -1:\n",
    "                break\n",
    "        else:\n",
    "            print('Дане число не входить в пункти меню!')\n",
    "    except ValueError:\n",
    "        print('Неправильний тип значення!')\n",
    "       \n",
    "            \n",
    "        "
   ]
  },
  {
   "cell_type": "code",
   "execution_count": null,
   "metadata": {},
   "outputs": [],
   "source": []
  }
 ],
 "metadata": {
  "kernelspec": {
   "display_name": "Python 3",
   "language": "python",
   "name": "python3"
  },
  "language_info": {
   "codemirror_mode": {
    "name": "ipython",
    "version": 3
   },
   "file_extension": ".py",
   "mimetype": "text/x-python",
   "name": "python",
   "nbconvert_exporter": "python",
   "pygments_lexer": "ipython3",
   "version": "3.8.3"
  }
 },
 "nbformat": 4,
 "nbformat_minor": 4
}
