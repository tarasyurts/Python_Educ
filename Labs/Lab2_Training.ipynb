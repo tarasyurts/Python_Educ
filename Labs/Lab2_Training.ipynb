{
 "cells": [
  {
   "cell_type": "code",
   "execution_count": 11,
   "metadata": {},
   "outputs": [
    {
     "name": "stdout",
     "output_type": "stream",
     "text": [
      "Введіть к-сть елементів в масиві: 6\n",
      "Введіть число #1: 4\n",
      "Введіть число #2: 7\n",
      "Введіть число #3: -3\n",
      "Введіть число #4: 5\n",
      "Введіть число #5: 7\n",
      "Введіть число #6: 11\n"
     ]
    }
   ],
   "source": [
    "# ====  1  ====\n",
    "\n",
    "lst = []\n",
    "for i in range(int(input('Введіть к-сть елементів в масиві: '))):\n",
    "    lst.append(int(input('Введіть число #' + str(i+1) + \": \")))"
   ]
  },
  {
   "cell_type": "code",
   "execution_count": 14,
   "metadata": {},
   "outputs": [
    {
     "name": "stdout",
     "output_type": "stream",
     "text": [
      "Введіть к-сть випадкових елементів: 4\n",
      "[7, 8, 8, 9]\n",
      "[4, 7, -3, 5, 7, 11, 7, 8, 8, 9]\n"
     ]
    }
   ],
   "source": [
    "# ====  2  ====\n",
    "\n",
    "from random import randrange as rnd\n",
    "\n",
    "rnd_lst = []\n",
    "for i in range(int(input('Введіть к-сть випадкових елементів: '))):\n",
    "    rnd_lst.append(rnd(1,10))\n",
    "\n",
    "print(rnd_lst)\n",
    "lst += rnd_lst\n",
    "print(lst)\n"
   ]
  },
  {
   "cell_type": "code",
   "execution_count": 16,
   "metadata": {},
   "outputs": [
    {
     "name": "stdout",
     "output_type": "stream",
     "text": [
      "Введіть слово: Неймовірно\n",
      "['Н', 'е', 'й', 'м', 'о', 'в', 'і', 'р', 'н', 'о']\n"
     ]
    }
   ],
   "source": [
    "# ====  3  ====\n",
    "\n",
    "print(list(input('Введіть слово: ')))"
   ]
  },
  {
   "cell_type": "code",
   "execution_count": 18,
   "metadata": {},
   "outputs": [
    {
     "name": "stdout",
     "output_type": "stream",
     "text": [
      "Введіть х: 0\n",
      "На нуль ділити не можна!\n"
     ]
    }
   ],
   "source": [
    "# ====  ВИКЛЮЧЕННЯ ПОМИЛОК  ====\n",
    "# ====  1  ====\n",
    "\n",
    "x = int(input('Введіть х: '))\n",
    "try:\n",
    "    result = 1/x\n",
    "except ZeroDivisionError:\n",
    "    print('На нуль ділити не можна!')\n",
    "else:\n",
    "    print(result)\n"
   ]
  },
  {
   "cell_type": "code",
   "execution_count": 25,
   "metadata": {},
   "outputs": [
    {
     "name": "stdout",
     "output_type": "stream",
     "text": [
      "Enter city name: Rome\n",
      "Rome is a part of Italy\n",
      "['Berlin', 'Moscow', 'Rome']\n",
      "3\n",
      "Enter city to delete: Moscow\n",
      "['Germany', 'Italy']\n",
      "City name: Kiev\n",
      "Country name: Ukraine\n"
     ]
    }
   ],
   "source": [
    "# ==== СЛОВНИКИ ====\n",
    "\n",
    "\n",
    "cities_dict = {'Berlin':'Germany', 'Moscow':'Russia', 'Rome':'Italy'}\n",
    "\n",
    "# З клавіатури вводиться назва міста, вивести чи є дане\n",
    "# місто в словнику і з якої країни воно\n",
    "\n",
    "city = input('Enter city name: ')\n",
    "\n",
    "if city in cities_dict:\n",
    "    print(city + ' is a part of ' + cities_dict[city])\n",
    "else:\n",
    "    print('There is no such a city')\n",
    "    \n",
    "    \n",
    "# З назв міст утворити список\n",
    "\n",
    "print(list(cities_dict))\n",
    "\n",
    "\n",
    "# Вивести кількість елементів словника (len())\n",
    "\n",
    "print(len(cities_dict))\n",
    "\n",
    "\n",
    "# З клавіатури вводиться назва міста, якщо таке місто є в\n",
    "# словнику, то знищити його\n",
    "\n",
    "city_to_delete = input('Enter city to delete: ')\n",
    "\n",
    "if city_to_delete in cities_dict:\n",
    "    del cities_dict[city_to_delete]\n",
    "else:\n",
    "    print('There is no such a city')\n",
    "\n",
    "\n",
    "# Зробити зі значень словника список\n",
    "\n",
    "print(list(cities_dict.values()))\n",
    "\n",
    "\n",
    "# З клавіатури ввести ще один елемент словника\n",
    "\n",
    "cities_dict.update({input('City name: '): input('Country name: ')})\n"
   ]
  },
  {
   "cell_type": "code",
   "execution_count": null,
   "metadata": {},
   "outputs": [],
   "source": [
    "\n",
    "\n"
   ]
  }
 ],
 "metadata": {
  "kernelspec": {
   "display_name": "Python 3",
   "language": "python",
   "name": "python3"
  },
  "language_info": {
   "codemirror_mode": {
    "name": "ipython",
    "version": 3
   },
   "file_extension": ".py",
   "mimetype": "text/x-python",
   "name": "python",
   "nbconvert_exporter": "python",
   "pygments_lexer": "ipython3",
   "version": "3.8.3"
  }
 },
 "nbformat": 4,
 "nbformat_minor": 4
}
